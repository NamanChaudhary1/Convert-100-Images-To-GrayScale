{
  "nbformat": 4,
  "nbformat_minor": 0,
  "metadata": {
    "colab": {
      "provenance": [],
      "authorship_tag": "ABX9TyNGjDp8S3uAEuv6elDBfiqf",
      "include_colab_link": true
    },
    "kernelspec": {
      "name": "python3",
      "display_name": "Python 3"
    },
    "language_info": {
      "name": "python"
    }
  },
  "cells": [
    {
      "cell_type": "markdown",
      "metadata": {
        "id": "view-in-github",
        "colab_type": "text"
      },
      "source": [
        "<a href=\"https://colab.research.google.com/github/NamanChaudhary1/Convert-100-Images-To-GrayScale/blob/main/Convert_100_Images_to_grayscale.ipynb\" target=\"_parent\"><img src=\"https://colab.research.google.com/assets/colab-badge.svg\" alt=\"Open In Colab\"/></a>"
      ]
    },
    {
      "cell_type": "markdown",
      "source": [
        "# **Convert 100 images to Grey Scale (b/w)\" using OpenCV**"
      ],
      "metadata": {
        "id": "eq21qy_F3I15"
      }
    },
    {
      "cell_type": "code",
      "source": [
        "import cv2\n",
        "import os\n",
        "import requests\n",
        "from urllib.parse import urlparse\n",
        "from bs4 import BeautifulSoup"
      ],
      "metadata": {
        "id": "mS4rw_o93ONQ"
      },
      "execution_count": 14,
      "outputs": []
    },
    {
      "cell_type": "markdown",
      "source": [
        "URL of the web page containing the images"
      ],
      "metadata": {
        "id": "GNl6B7qV3SjQ"
      }
    },
    {
      "cell_type": "code",
      "source": [
        "web_page_url = \"https://unsplash.com/\""
      ],
      "metadata": {
        "id": "1R7BfrNy3Ylj"
      },
      "execution_count": 16,
      "outputs": []
    },
    {
      "cell_type": "markdown",
      "source": [
        "Path to the directory to save the downloaded images"
      ],
      "metadata": {
        "id": "GEAf5Vj_3Z8C"
      }
    },
    {
      "cell_type": "code",
      "source": [
        "image_directory = \"/content/Images\""
      ],
      "metadata": {
        "id": "b3L0iZPi3caQ"
      },
      "execution_count": 17,
      "outputs": []
    },
    {
      "cell_type": "markdown",
      "source": [
        "Fetch the web page content"
      ],
      "metadata": {
        "id": "dTIH6xno3d-Z"
      }
    },
    {
      "cell_type": "code",
      "source": [
        "response = requests.get(web_page_url)\n",
        "web_page_content = response.text"
      ],
      "metadata": {
        "id": "Vgro9HoX3fvR"
      },
      "execution_count": 18,
      "outputs": []
    },
    {
      "cell_type": "markdown",
      "source": [
        "Create the image directory if it doesn't exist"
      ],
      "metadata": {
        "id": "IqxIUm_q3hXS"
      }
    },
    {
      "cell_type": "code",
      "source": [
        "os.makedirs(image_directory, exist_ok=True)"
      ],
      "metadata": {
        "id": "Jb9SKJ3U3kd-"
      },
      "execution_count": 19,
      "outputs": []
    },
    {
      "cell_type": "markdown",
      "source": [
        "Counter for downloaded and converted images.Then parsing the Html Content Using BeautifulSoup and finding all image tags in html."
      ],
      "metadata": {
        "id": "OFhLnkTb3mI2"
      }
    },
    {
      "cell_type": "code",
      "source": [
        "counter = 0\n",
        "\n",
        "# Parse the HTML content using BeautifulSoup\n",
        "soup = BeautifulSoup(web_page_content, \"html.parser\")\n",
        "\n",
        "# Find all image tags in the parsed HTML\n",
        "image_tags = soup.find_all(\"img\")\n",
        "\n",
        "# Iterate over the image tags and download/convert the images\n",
        "for image_tag in image_tags:\n",
        "    if counter >= 100:\n",
        "        break\n",
        "\n",
        "    # Extract the image URL from the 'src' attribute of the image tag\n",
        "    image_url = image_tag.get(\"src\")\n",
        "\n",
        "    # Check if the image URL is not empty\n",
        "    if image_url:\n",
        "        # Check if the URL is relative or absolute\n",
        "        parsed_url = urlparse(image_url)\n",
        "        if not parsed_url.scheme:\n",
        "            # If the URL is relative, construct the absolute URL\n",
        "            base_url = urlparse(web_page_url)\n",
        "            image_url = f\"{base_url.scheme}://{base_url.netloc}{image_url}\"\n",
        "\n",
        "        try:\n",
        "            # Download the image\n",
        "            image_data = requests.get(image_url).content\n",
        "\n",
        "            # Save the image\n",
        "            image_path = os.path.join(image_directory, f\"image{counter}.jpg\")\n",
        "            with open(image_path, \"wb\") as f:\n",
        "                f.write(image_data)\n",
        "\n",
        "            # Check if the image file is valid and read it\n",
        "            if os.path.isfile(image_path) and os.path.getsize(image_path) > 0:\n",
        "                # Convert the image to grayscale\n",
        "                image = cv2.imread(image_path)\n",
        "                if image is not None:\n",
        "                    gray_image = cv2.cvtColor(image, cv2.COLOR_BGR2GRAY)\n",
        "\n",
        "                    # Save the grayscale image\n",
        "                    gray_image_path = os.path.join(image_directory, f\"gray_image{counter}.jpg\")\n",
        "                    cv2.imwrite(gray_image_path, gray_image)\n",
        "\n",
        "                    print(f\"Downloaded and converted image {counter}\")\n",
        "\n",
        "                    counter += 1\n",
        "                else:\n",
        "                    print(f\"Failed to read image {counter}\")\n",
        "            else:\n",
        "                print(f\"Invalid image file {counter}\")\n",
        "\n",
        "        except requests.exceptions.RequestException as e:\n",
        "            print(f\"Failed to download image: {e}\")"
      ],
      "metadata": {
        "colab": {
          "base_uri": "https://localhost:8080/"
        },
        "id": "fKJluAFh6Dxs",
        "outputId": "b452fe93-6ee5-4312-8232-257111b51f00"
      },
      "execution_count": 23,
      "outputs": [
        {
          "output_type": "stream",
          "name": "stdout",
          "text": [
            "Failed to read image 0\n",
            "Downloaded and converted image 0\n",
            "Downloaded and converted image 1\n",
            "Downloaded and converted image 2\n",
            "Downloaded and converted image 3\n",
            "Downloaded and converted image 4\n",
            "Downloaded and converted image 5\n",
            "Downloaded and converted image 6\n",
            "Downloaded and converted image 7\n",
            "Downloaded and converted image 8\n",
            "Downloaded and converted image 9\n",
            "Downloaded and converted image 10\n",
            "Downloaded and converted image 11\n",
            "Downloaded and converted image 12\n",
            "Downloaded and converted image 13\n",
            "Downloaded and converted image 14\n",
            "Downloaded and converted image 15\n",
            "Downloaded and converted image 16\n",
            "Downloaded and converted image 17\n",
            "Downloaded and converted image 18\n",
            "Downloaded and converted image 19\n",
            "Downloaded and converted image 20\n",
            "Downloaded and converted image 21\n",
            "Downloaded and converted image 22\n",
            "Downloaded and converted image 23\n",
            "Downloaded and converted image 24\n",
            "Downloaded and converted image 25\n",
            "Downloaded and converted image 26\n",
            "Downloaded and converted image 27\n",
            "Downloaded and converted image 28\n",
            "Downloaded and converted image 29\n",
            "Downloaded and converted image 30\n",
            "Downloaded and converted image 31\n",
            "Downloaded and converted image 32\n",
            "Downloaded and converted image 33\n",
            "Downloaded and converted image 34\n",
            "Downloaded and converted image 35\n",
            "Downloaded and converted image 36\n",
            "Downloaded and converted image 37\n",
            "Downloaded and converted image 38\n",
            "Downloaded and converted image 39\n",
            "Downloaded and converted image 40\n",
            "Downloaded and converted image 41\n",
            "Downloaded and converted image 42\n",
            "Downloaded and converted image 43\n",
            "Downloaded and converted image 44\n",
            "Downloaded and converted image 45\n",
            "Downloaded and converted image 46\n",
            "Downloaded and converted image 47\n",
            "Downloaded and converted image 48\n",
            "Downloaded and converted image 49\n",
            "Downloaded and converted image 50\n",
            "Downloaded and converted image 51\n",
            "Downloaded and converted image 52\n",
            "Downloaded and converted image 53\n",
            "Downloaded and converted image 54\n",
            "Downloaded and converted image 55\n",
            "Downloaded and converted image 56\n",
            "Downloaded and converted image 57\n",
            "Downloaded and converted image 58\n",
            "Downloaded and converted image 59\n",
            "Downloaded and converted image 60\n",
            "Downloaded and converted image 61\n",
            "Downloaded and converted image 62\n",
            "Downloaded and converted image 63\n",
            "Downloaded and converted image 64\n",
            "Downloaded and converted image 65\n",
            "Downloaded and converted image 66\n",
            "Downloaded and converted image 67\n",
            "Downloaded and converted image 68\n",
            "Downloaded and converted image 69\n",
            "Downloaded and converted image 70\n",
            "Downloaded and converted image 71\n",
            "Downloaded and converted image 72\n",
            "Downloaded and converted image 73\n",
            "Downloaded and converted image 74\n",
            "Downloaded and converted image 75\n",
            "Downloaded and converted image 76\n",
            "Downloaded and converted image 77\n",
            "Downloaded and converted image 78\n",
            "Downloaded and converted image 79\n",
            "Downloaded and converted image 80\n",
            "Downloaded and converted image 81\n",
            "Downloaded and converted image 82\n",
            "Downloaded and converted image 83\n",
            "Downloaded and converted image 84\n",
            "Downloaded and converted image 85\n",
            "Downloaded and converted image 86\n",
            "Downloaded and converted image 87\n",
            "Downloaded and converted image 88\n",
            "Downloaded and converted image 89\n",
            "Downloaded and converted image 90\n",
            "Downloaded and converted image 91\n",
            "Downloaded and converted image 92\n",
            "Downloaded and converted image 93\n",
            "Downloaded and converted image 94\n",
            "Downloaded and converted image 95\n",
            "Downloaded and converted image 96\n",
            "Failed to read image 97\n",
            "Failed to read image 97\n",
            "Failed to read image 97\n",
            "Failed to read image 97\n",
            "Failed to read image 97\n"
          ]
        }
      ]
    }
  ]
}